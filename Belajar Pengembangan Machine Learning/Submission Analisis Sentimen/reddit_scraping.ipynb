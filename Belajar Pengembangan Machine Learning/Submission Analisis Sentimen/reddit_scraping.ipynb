{
 "cells": [
  {
   "cell_type": "markdown",
   "metadata": {},
   "source": [
    "## Import Libraries"
   ]
  },
  {
   "cell_type": "code",
   "execution_count": 3,
   "metadata": {},
   "outputs": [],
   "source": [
    "from google_play_scraper import reviews, Sort\n",
    "import pandas as pd\n",
    "from tqdm import tqdm\n",
    "import time"
   ]
  },
  {
   "cell_type": "markdown",
   "metadata": {},
   "source": [
    "## Scraping Reddit Data"
   ]
  },
  {
   "cell_type": "code",
   "execution_count": 4,
   "metadata": {},
   "outputs": [
    {
     "name": "stderr",
     "output_type": "stream",
     "text": [
      "100%|██████████| 8/8 [01:25<00:00, 10.70s/it]\n"
     ]
    }
   ],
   "source": [
    "total_reviews = 80000\n",
    "batch_size = 10000\n",
    "all_reviews = []\n",
    "\n",
    "for i in tqdm(range(total_reviews // batch_size)):\n",
    "    try:\n",
    "        result, _ = reviews(\n",
    "            'com.reddit.frontpage',\n",
    "            lang='en',\n",
    "            country='us',\n",
    "            sort=Sort.NEWEST,\n",
    "            count=batch_size,\n",
    "            continuation_token=None\n",
    "        )\n",
    "        if not result:\n",
    "            print(\"No more reviews available\")\n",
    "            break\n",
    "        all_reviews.extend(result)\n",
    "        time.sleep(2)\n",
    "    except Exception as e:\n",
    "        print(f\"Error in batch {i+1}: {e}\")\n",
    "        time.sleep(5)\n",
    "        continue\n",
    "\n",
    "df = pd.DataFrame(all_reviews)"
   ]
  },
  {
   "cell_type": "code",
   "execution_count": 5,
   "metadata": {},
   "outputs": [],
   "source": [
    "df.to_csv('reddit_reviews.csv', index=False)"
   ]
  }
 ],
 "metadata": {
  "kernelspec": {
   "display_name": "Python 3",
   "language": "python",
   "name": "python3"
  },
  "language_info": {
   "codemirror_mode": {
    "name": "ipython",
    "version": 3
   },
   "file_extension": ".py",
   "mimetype": "text/x-python",
   "name": "python",
   "nbconvert_exporter": "python",
   "pygments_lexer": "ipython3",
   "version": "3.12.2"
  }
 },
 "nbformat": 4,
 "nbformat_minor": 2
}
